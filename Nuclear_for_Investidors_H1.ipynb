{
 "cells": [
  {
   "cell_type": "markdown",
   "id": "266c367a",
   "metadata": {},
   "source": [
    "# HackAton 2023 - IPEN | MEPhI | Rosatom"
   ]
  },
  {
   "cell_type": "markdown",
   "id": "d374ecb6",
   "metadata": {},
   "source": [
    "# Nuclear for Investidors"
   ]
  },
  {
   "cell_type": "markdown",
   "id": "89140840",
   "metadata": {},
   "source": [
    "In Python language, it has Back-end functionality and can be adapted to any computing platform."
   ]
  },
  {
   "cell_type": "markdown",
   "id": "30d2d491",
   "metadata": {},
   "source": [
    "### This solution was created to meet the HackAton proposal - 2023 - IPEN - MEPhI - Rosatom"
   ]
  },
  {
   "cell_type": "markdown",
   "id": "6992fb4a",
   "metadata": {},
   "source": [
    "### Import necessary modules"
   ]
  },
  {
   "cell_type": "code",
   "execution_count": null,
   "id": "f3e13adb",
   "metadata": {},
   "outputs": [],
   "source": [
    "import os\n",
    "import webbrowser"
   ]
  },
  {
   "cell_type": "markdown",
   "id": "982899c2",
   "metadata": {},
   "source": [
    "### Constants: A list of menu options for the program"
   ]
  },
  {
   "cell_type": "code",
   "execution_count": null,
   "id": "1407fbb0",
   "metadata": {},
   "outputs": [],
   "source": [
    "# Constants\n",
    "MENU_OPTIONS = [\n",
    "    \"Reasearch Center of Radioisotopes\",\n",
    "    \"Safety Standard - IAEA\",\n",
    "    \"History of radioisotopes and radiopharmaceuticals\",\n",
    "    \"New Opportunities of Investments Regulations in Brazil\",\n",
    "    \"Rising demand Radioisotopes in Medicine\",\n",
    "    \"IPEN - Radiation Technology Center\",\n",
    "    \"Innovations - Processing and Separation\",\n",
    "    \"Quality Control\",\n",
    "    \"Laboratories of Radiochemical Analysis\",\n",
    "    \"Radiopharmacy\",\n",
    "    \"Quality Assurance\",\n",
    "    \"Manual of Record-keeping and Documentation\",\n",
    "    \"IPEN - Safety Training\",\n",
    "    \"IPEN - Project Management Office\",\n",
    "    \"IPEN - Institutional Videos\",\n",
    "    \"Rosatom\",\n",
    "    \"MEPhI\",\n",
    "    \"Exit\"\n",
    "]"
   ]
  },
  {
   "cell_type": "markdown",
   "id": "b52090f5",
   "metadata": {},
   "source": [
    "### URLs corresponding to the menu options"
   ]
  },
  {
   "cell_type": "code",
   "execution_count": null,
   "id": "47f57deb",
   "metadata": {},
   "outputs": [],
   "source": [
    "# URLs for the menu options\n",
    "URLS = [\n",
    "    \"https://www.ipen.br/portal_por/portal/interna.php?secao_id=639\",\n",
    "    \"https://www.ipen.br/biblioteca/slr/cel/2313\",\n",
    "    \"https://www.ipen.br/portal_por/portal/interna.php?secao_id=632\",\n",
    "    \"https://www12.senado.leg.br/radio/1/noticia/2022/04/26/promulgada-emenda-que-quebra-monopolio-na-producao-de-radioisotopos\",\n",
    "    \"https://world-nuclear.org/information-library/non-power-nuclear-applications/radioisotopes-research/radioisotopes-in-medicine.aspx\",\n",
    "    \"https://www.ipen.br/portal_por/portal/interna.php?secao_id=676\",\n",
    "    \"https://www.ipen.br/portal_por/portal/interna.php?secao_id=38&campo=19122\",\n",
    "    \"https://www.ipen.br/portal_por/portal/interna.php?secao_id=697&campo=1676\",\n",
    "    \"https://www.ipen.br/portal_por/portal/lista.php?secao_id=2500\",\n",
    "    \"https://www.ipen.br/portal_por/conteudo/documentos/PR_2014_2016_06_Radiopharmacy.pdf\",\n",
    "    \"https://www.ipen.br/portal_por/portal/interna.php?secao_id=641\",\n",
    "    \"https://www.ipen.br/portal_por/conteudo/geral/MANUAL_DE_GESTAO_IPN.pdf\",\n",
    "    \"https://www.ipen.br/portal_por/portal/interna.php?secao_id=1087&campo=498\",\n",
    "    \"https://www.ipen.br/portal_por/portal/interna.php?secao_id=1190\",\n",
    "    \"https://www.ipen.br/portal_por/portal/interna.php?secao_id=1087&campo=498\",\n",
    "    \"https://rosatom-latinamerica.com/pt/rosatom-in-country/\",\n",
    "    \"https://studynuclear.com/tpost/6i3elfr0o1-life-cycle-of-nuclear-power-plants\",\n",
    "]\n"
   ]
  },
  {
   "cell_type": "markdown",
   "id": "bff50688",
   "metadata": {},
   "source": [
    "### Function to clear the screen based on the OS"
   ]
  },
  {
   "cell_type": "code",
   "execution_count": null,
   "id": "fc6f772d",
   "metadata": {},
   "outputs": [],
   "source": [
    "def clear_screen():\n",
    "    os.system('cls' if os.name == 'nt' else 'clear')"
   ]
  },
  {
   "cell_type": "code",
   "execution_count": null,
   "id": "31f0de2e",
   "metadata": {},
   "outputs": [],
   "source": [
    "def display_menu():\n",
    "    clear_screen()\n",
    "    print(\"☢ ☢ ☢ ☢ ☢ ☢ ☢ ☢ ☢ ☢ ☢ ☢ ☢ ☢ ☢ ☢ ☢ ☢ ☢ ☢ ☢ ☢ ☢ ☢ ☢ ☢ ☢ ☢ ☢\")\n",
    "    print(\"\\033[1mRadioisotope Production Decision Support - HackAtom - Mephi & IPEN\\033[0m\")\n",
    "    print()\n",
    "    for index, option in enumerate(MENU_OPTIONS, start=1):\n",
    "        print(f\"{index}. {option}\")\n",
    "    print(\"☢ ☢ ☢ ☢ ☢ ☢ ☢ ☢ ☢ ☢ ☢ ☢ ☢ ☢ ☢ ☢ ☢ ☢ ☢ ☢ ☢ ☢ ☢ ☢ ☢ ☢ ☢ ☢ ☢\")"
   ]
  },
  {
   "cell_type": "code",
   "execution_count": null,
   "id": "701bf904",
   "metadata": {},
   "outputs": [],
   "source": [
    "def open_url(index):\n",
    "    if 0 < index <= len(URLS):\n",
    "        webbrowser.open(URLS[index - 1])"
   ]
  },
  {
   "cell_type": "code",
   "execution_count": null,
   "id": "8af620df",
   "metadata": {},
   "outputs": [],
   "source": [
    "def main():\n",
    "    while True:\n",
    "        display_menu()\n",
    "        choice = input(\"Enter your choice: \")\n",
    "\n",
    "        if choice.isdigit():\n",
    "            choice = int(choice)\n",
    "            if 1 <= choice <= len(MENU_OPTIONS):\n",
    "                if choice == len(MENU_OPTIONS):\n",
    "                    clear_screen()\n",
    "                    print(\"You are always welcome!\")\n",
    "                    break\n",
    "                else:\n",
    "                    open_url(choice)\n",
    "                    input(\"Press Enter to continue...\")\n",
    "            else:\n",
    "                print(\"Invalid choice. Please try again.\")\n",
    "        else:\n",
    "            print(\"Invalid choice. Please try again.\")"
   ]
  },
  {
   "cell_type": "markdown",
   "id": "8cb349b8",
   "metadata": {},
   "source": [
    "### Run the main function if this script is executed"
   ]
  },
  {
   "cell_type": "code",
   "execution_count": null,
   "id": "c1bc596f",
   "metadata": {},
   "outputs": [],
   "source": [
    "if __name__ == \"__main__\":\n",
    "    main()"
   ]
  },
  {
   "cell_type": "code",
   "execution_count": null,
   "id": "6423c5fb",
   "metadata": {},
   "outputs": [],
   "source": []
  }
 ],
 "metadata": {
  "kernelspec": {
   "display_name": "Python 3 (ipykernel)",
   "language": "python",
   "name": "python3"
  },
  "language_info": {
   "codemirror_mode": {
    "name": "ipython",
    "version": 3
   },
   "file_extension": ".py",
   "mimetype": "text/x-python",
   "name": "python",
   "nbconvert_exporter": "python",
   "pygments_lexer": "ipython3",
   "version": "3.10.9"
  }
 },
 "nbformat": 4,
 "nbformat_minor": 5
}
