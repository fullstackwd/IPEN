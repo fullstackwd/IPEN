{
 "cells": [
  {
   "cell_type": "markdown",
   "id": "cb43150d",
   "metadata": {},
   "source": [
    "# Nuclear for Investors"
   ]
  },
  {
   "cell_type": "markdown",
   "id": "291c6ac4",
   "metadata": {},
   "source": [
    "version of computers"
   ]
  },
  {
   "cell_type": "code",
   "execution_count": 1,
   "id": "06eca90b",
   "metadata": {},
   "outputs": [],
   "source": [
    "import webbrowser\n",
    "import tkinter as tk"
   ]
  },
  {
   "cell_type": "code",
   "execution_count": 2,
   "id": "bfa74523",
   "metadata": {},
   "outputs": [],
   "source": [
    "# Constants: A list of menu options for the program\n",
    "MENU_OPTIONS = [\n",
    "    \"Reasearch Center of Radioisotopes\",\n",
    "    \"Safety Standard - IAEA\",\n",
    "    \"History of radioisotopes and radiopharmaceuticals\",\n",
    "    \"New Opportunities of Investments Regulations in Brazil\",\n",
    "    \"Rising demand Radioisotopes in Medicine\",\n",
    "    \"IPEN - Radiation Technology Center\",\n",
    "    \"Innovations - Processing and Separation\",\n",
    "    \"Quality Control\",\n",
    "    \"Laboratories of Radiochemical Analysis\",\n",
    "    \"Radiopharmacy\",\n",
    "    \"Quality Assurance\",\n",
    "    \"Manual of Record-keeping and Documentation\",\n",
    "    \"IPEN - Safety Training\",\n",
    "    \"IPEN - Project Management Office\",\n",
    "    \"IPEN - Institutional Videos\",\n",
    "    \"Rosatom\",\n",
    "    \"MEPhI\",\n",
    "    \"Exit\"\n",
    "]\n"
   ]
  },
  {
   "cell_type": "code",
   "execution_count": 3,
   "id": "49c76c62",
   "metadata": {},
   "outputs": [],
   "source": [
    "# URLs corresponding to the menu options\n",
    "URLS = [\n",
    "    \"https://www.ipen.br/portal_por/portal/interna.php?secao_id=639\",\n",
    "    \"https://www.ipen.br/biblioteca/slr/cel/2313\",\n",
    "    \"https://www.ipen.br/portal_por/portal/interna.php?secao_id=632\",\n",
    "    \"https://www12.senado.leg.br/radio/1/noticia/2022/04/26/promulgada-emenda-que-quebra-monopolio-na-producao-de-radioisotopos\",\n",
    "    \"https://world-nuclear.org/information-library/non-power-nuclear-applications/radioisotopes-research/radioisotopes-in-medicine.aspx\",\n",
    "    \"https://www.ipen.br/portal_por/portal/interna.php?secao_id=676\",\n",
    "    \"https://www.ipen.br/portal_por/portal/interna.php?secao_id=38&campo=19122\",\n",
    "    \"https://www.ipen.br/portal_por/portal/interna.php?secao_id=697&campo=1676\",\n",
    "    \"https://www.ipen.br/portal_por/portal/lista.php?secao_id=2500\",\n",
    "    \"https://www.ipen.br/portal_por/conteudo/documentos/PR_2014_2016_06_Radiopharmacy.pdf\",\n",
    "    \"https://www.ipen.br/portal_por/portal/interna.php?secao_id=641\",\n",
    "    \"https://www.ipen.br/portal_por/conteudo/geral/MANUAL_DE_GESTAO_IPN.pdf\",\n",
    "    \"https://www.ipen.br/portal_por/portal/interna.php?secao_id=1087&campo=498\",\n",
    "    \"https://www.ipen.br/portal_por/portal/interna.php?secao_id=1190\",\n",
    "    \"https://www.ipen.br/portal_por/portal/interna.php?secao_id=1087&campo=498\",\n",
    "    \"https://rosatom-latinamerica.com/pt/rosatom-in-country/\",\n",
    "    \"https://studynuclear.com/tpost/6i3elfr0o1-life-cycle-of-nuclear-power-plants\",\n",
    "]"
   ]
  },
  {
   "cell_type": "code",
   "execution_count": 4,
   "id": "f0daae92",
   "metadata": {},
   "outputs": [],
   "source": [
    "# Function to open the selected URL\n",
    "def open_url(index):\n",
    "    if 0 < index <= len(URLS):\n",
    "        webbrowser.open(URLS[index - 1])\n",
    "\n",
    "# Function to handle menu item selection\n",
    "def menu_item_selected(event):\n",
    "    index = menu_listbox.curselection()[0]\n",
    "    open_url(index + 1)\n",
    "\n",
    "# Function to close the application\n",
    "def close_app():\n",
    "    root.destroy()"
   ]
  },
  {
   "cell_type": "code",
   "execution_count": 5,
   "id": "2c77cc05",
   "metadata": {},
   "outputs": [
    {
     "data": {
      "text/plain": [
       "''"
      ]
     },
     "execution_count": 5,
     "metadata": {},
     "output_type": "execute_result"
    }
   ],
   "source": [
    "# Create the main window\n",
    "root = tk.Tk()\n",
    "root.title(\"Nuclear for Investors\")\n",
    "root.geometry(\"800x500\")  # Define a larger window size\n"
   ]
  },
  {
   "cell_type": "code",
   "execution_count": 6,
   "id": "2e008bd7",
   "metadata": {},
   "outputs": [],
   "source": [
    "# Create a listbox to display menu options with scrollbar\n",
    "menu_frame = tk.Frame(root)\n",
    "menu_frame.pack(fill=tk.BOTH, expand=True)\n",
    "menu_listbox = tk.Listbox(menu_frame, selectbackground=\"blue\", selectmode=tk.SINGLE, font=(\"Arial\", 14))\n",
    "menu_listbox.pack(side=tk.LEFT, fill=tk.BOTH, expand=True)\n",
    "\n",
    "menu_scrollbar = tk.Scrollbar(menu_frame)\n",
    "menu_scrollbar.pack(side=tk.RIGHT, fill=tk.Y)\n",
    "menu_listbox.config(yscrollcommand=menu_scrollbar.set)\n",
    "menu_scrollbar.config(command=menu_listbox.yview)\n",
    "\n",
    "for option in MENU_OPTIONS:\n",
    "    menu_listbox.insert(tk.END, option)"
   ]
  },
  {
   "cell_type": "code",
   "execution_count": 7,
   "id": "9a0d130d",
   "metadata": {},
   "outputs": [],
   "source": [
    "# Create a button to open the selected URL\n",
    "open_button = tk.Button(root, text=\"Open\", command=lambda: menu_item_selected(None), font=(\"Arial\", 12))\n",
    "open_button.pack(pady=10)"
   ]
  },
  {
   "cell_type": "code",
   "execution_count": 8,
   "id": "63faec60",
   "metadata": {},
   "outputs": [],
   "source": [
    "# Create a button to close the application\n",
    "close_button = tk.Button(root, text=\"Close\", command=close_app, font=(\"Arial\", 12))\n",
    "close_button.pack()"
   ]
  },
  {
   "cell_type": "code",
   "execution_count": 9,
   "id": "99960ec0",
   "metadata": {},
   "outputs": [],
   "source": [
    "# Run the main application loop\n",
    "root.mainloop()"
   ]
  }
 ],
 "metadata": {
  "kernelspec": {
   "display_name": "Python 3 (ipykernel)",
   "language": "python",
   "name": "python3"
  },
  "language_info": {
   "codemirror_mode": {
    "name": "ipython",
    "version": 3
   },
   "file_extension": ".py",
   "mimetype": "text/x-python",
   "name": "python",
   "nbconvert_exporter": "python",
   "pygments_lexer": "ipython3",
   "version": "3.10.9"
  }
 },
 "nbformat": 4,
 "nbformat_minor": 5
}
